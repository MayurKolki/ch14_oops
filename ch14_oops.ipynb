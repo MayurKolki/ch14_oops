{
 "cells": [
  {
   "cell_type": "markdown",
   "metadata": {},
   "source": [
    "# ch14_oops"
   ]
  },
  {
   "cell_type": "code",
   "execution_count": 1,
   "metadata": {},
   "outputs": [],
   "source": [
    "# class definition\n",
    "class Bank:\n",
    "    \n",
    "    # class members\n",
    "    name = \"State Bank\"\n",
    "    addr1 = \"ABC Road\"\n",
    "    city = \"Pune\"\n",
    "    branch = \"XYZ\"\n",
    "    \n",
    "    # class methods\n",
    "    def printDetails(self):\n",
    "        print(Bank.name,Bank.addr1,Bank.city)\n",
    "    \n",
    "    def updateBranch(self,newbranchname):\n",
    "        print(\"Old branch name = \", Bank.branch)\n",
    "        Bank.branch = newbranchname\n",
    "        print(\"New branch name = \", Bank.branch)\n",
    "        "
   ]
  },
  {
   "cell_type": "code",
   "execution_count": 2,
   "metadata": {},
   "outputs": [],
   "source": [
    "# to access the members and methods, first create an instance of the class\n",
    "b1 = Bank()"
   ]
  },
  {
   "cell_type": "code",
   "execution_count": 4,
   "metadata": {},
   "outputs": [
    {
     "data": {
      "text/plain": [
       "'State Bank'"
      ]
     },
     "execution_count": 4,
     "metadata": {},
     "output_type": "execute_result"
    }
   ],
   "source": [
    "# accessing members\n",
    "b1.name\n",
    "\n"
   ]
  },
  {
   "cell_type": "code",
   "execution_count": 5,
   "metadata": {},
   "outputs": [
    {
     "data": {
      "text/plain": [
       "'ABC Road'"
      ]
     },
     "execution_count": 5,
     "metadata": {},
     "output_type": "execute_result"
    }
   ],
   "source": [
    "b1.addr1"
   ]
  },
  {
   "cell_type": "code",
   "execution_count": 6,
   "metadata": {},
   "outputs": [
    {
     "name": "stdout",
     "output_type": "stream",
     "text": [
      "State Bank ABC Road Pune\n"
     ]
    }
   ],
   "source": [
    "# access methods\n",
    "b1.printDetails()\n"
   ]
  },
  {
   "cell_type": "code",
   "execution_count": null,
   "metadata": {},
   "outputs": [],
   "source": []
  },
  {
   "cell_type": "code",
   "execution_count": 7,
   "metadata": {},
   "outputs": [
    {
     "name": "stdout",
     "output_type": "stream",
     "text": [
      "Old branch name =  XYZ\n",
      "New branch name =  CRS\n"
     ]
    },
    {
     "data": {
      "text/plain": [
       "'CRS'"
      ]
     },
     "execution_count": 7,
     "metadata": {},
     "output_type": "execute_result"
    }
   ],
   "source": [
    "b1.updateBranch(\"CRS\")\n",
    "b1.branch\n"
   ]
  },
  {
   "cell_type": "code",
   "execution_count": 8,
   "metadata": {},
   "outputs": [
    {
     "data": {
      "text/plain": [
       "'CRS'"
      ]
     },
     "execution_count": 8,
     "metadata": {},
     "output_type": "execute_result"
    }
   ],
   "source": [
    "# create a new instance of the class 'Bank'\n",
    "b2 = Bank()\n",
    "b2.branch\n"
   ]
  },
  {
   "cell_type": "code",
   "execution_count": 9,
   "metadata": {},
   "outputs": [
    {
     "data": {
      "text/plain": [
       "'CRS'"
      ]
     },
     "execution_count": 9,
     "metadata": {},
     "output_type": "execute_result"
    }
   ],
   "source": [
    "b1.branch   \n",
    "\n",
    "        "
   ]
  },
  {
   "cell_type": "code",
   "execution_count": 10,
   "metadata": {},
   "outputs": [
    {
     "data": {
      "text/plain": [
       "'CRS'"
      ]
     },
     "execution_count": 10,
     "metadata": {},
     "output_type": "execute_result"
    }
   ],
   "source": [
    "b2.branch"
   ]
  },
  {
   "cell_type": "code",
   "execution_count": 11,
   "metadata": {},
   "outputs": [
    {
     "name": "stdout",
     "output_type": "stream",
     "text": [
      "Name = State Bank, Address = ABC Road, City = Pune, Branch = XYZ\n",
      "Old branch name =  XYZ\n",
      "New branch name =  PQRST\n",
      "Name = State Bank, Address = ABC Road, City = Pune, Branch = XYZ\n"
     ]
    }
   ],
   "source": [
    "# create a class using a constructor\n",
    "class Bank:\n",
    "    \n",
    "    # constructor\n",
    "    def __init__(self):\n",
    "        self.name = \"State Bank\"\n",
    "        self.addr1 = \"ABC Road\"\n",
    "        self.city = \"Pune\"\n",
    "        self.branch = \"XYZ\"\n",
    "        \n",
    "    def printDetails(self):\n",
    "        print(\"Name = {}, Address = {}, City = {}, Branch = {}\".format(self.name,self.addr1,self.city,self.branch))\n",
    "    \n",
    "    def updateBranch(self,newbranch):\n",
    "        print(\"Old branch name = \", self.branch)\n",
    "        self.branch = newbranch\n",
    "        print(\"New branch name = \", self.branch)\n",
    "        \n",
    "\n",
    "# create instance of class 'Bank'\n",
    "b1 = Bank()\n",
    "b1.printDetails()\n",
    "b1.updateBranch('PQRST')    \n",
    "\n",
    "b2 = Bank()\n",
    "b2.printDetails()\n"
   ]
  },
  {
   "cell_type": "code",
   "execution_count": 12,
   "metadata": {},
   "outputs": [],
   "source": [
    "##############\n",
    "\n",
    "# parent-child classes\n",
    "\n",
    "# parent class\n",
    "class pBank:\n",
    "    name = 'SBI'\n",
    "    branch = 'LG branch'\n",
    "    ifsc = 'ILG000001'\n",
    "    phone = 18004437718\n",
    "    \n",
    "\n",
    "# child class\n",
    "class cMyAccount(pBank):\n",
    "    def __init__(self,accnum):\n",
    "        self.accnum = accnum\n",
    "        self.balance = 4500\n",
    "        self.acctype = 'Savings'\n",
    "        self.trans = []    \n",
    "        \n",
    "        \n",
    "    def printDetails(self):\n",
    "        print(\"My Acc Number = \", self.accnum)\n",
    "        print(\"Account Type = \", self.acctype)\n",
    "        \n",
    "    def deposits(self,amount):\n",
    "        print('Before Deposit, balance = ', self.balance)\n",
    "        self.balance+= amount\n",
    "        print('Deposited amount = ', amount)\n",
    "        print('After Deposit, balance = ', self.balance)\n",
    "        self.trans.append(\"D: \"+str(amount))\n",
    "        \n",
    "    def withdrawls(self,amount):\n",
    "        if amount > self.balance:\n",
    "            print(\"Withdrawl amount {} is more than available balance {}\".format(amount,self.balance))\n",
    "            self.trans.append('F: ' + str(amount))\n",
    "            exit\n",
    "        else:\n",
    "            print('Before Withdrawl, balance = ',self.balance)\n",
    "            self.balance-=amount\n",
    "            print('Amount Withdrawn = ', amount)\n",
    "            print('After withdrawl, balance = ', self.balance)\n",
    "            self.trans.append(\"W: \" + str(amount))\n",
    "    \n",
    "    def getLastNTrans(self,n):\n",
    "        ans = self.trans[-n:]\n",
    "        ans.reverse()\n",
    "        print(ans)"
   ]
  },
  {
   "cell_type": "code",
   "execution_count": 13,
   "metadata": {},
   "outputs": [],
   "source": [
    "# create an instance of the child class\n",
    "crs = cMyAccount(100)\n",
    "\n"
   ]
  },
  {
   "cell_type": "code",
   "execution_count": 14,
   "metadata": {},
   "outputs": [
    {
     "name": "stdout",
     "output_type": "stream",
     "text": [
      "Before Deposit, balance =  4500\n",
      "Deposited amount =  10248\n",
      "After Deposit, balance =  14748\n"
     ]
    }
   ],
   "source": [
    "crs.deposits(10248)"
   ]
  },
  {
   "cell_type": "code",
   "execution_count": 15,
   "metadata": {},
   "outputs": [
    {
     "name": "stdout",
     "output_type": "stream",
     "text": [
      "Before Withdrawl, balance =  14748\n",
      "Amount Withdrawn =  5000\n",
      "After withdrawl, balance =  9748\n"
     ]
    }
   ],
   "source": [
    "crs.withdrawls(5000)\n"
   ]
  },
  {
   "cell_type": "code",
   "execution_count": 16,
   "metadata": {},
   "outputs": [
    {
     "name": "stdout",
     "output_type": "stream",
     "text": [
      "Before Deposit, balance =  9748\n",
      "Deposited amount =  925\n",
      "After Deposit, balance =  10673\n"
     ]
    }
   ],
   "source": [
    "crs.deposits(925)\n"
   ]
  },
  {
   "cell_type": "code",
   "execution_count": 17,
   "metadata": {},
   "outputs": [
    {
     "name": "stdout",
     "output_type": "stream",
     "text": [
      "Before Deposit, balance =  10673\n",
      "Deposited amount =  7225\n",
      "After Deposit, balance =  17898\n"
     ]
    }
   ],
   "source": [
    "crs.deposits(7225)\n",
    "\n"
   ]
  },
  {
   "cell_type": "code",
   "execution_count": 18,
   "metadata": {},
   "outputs": [
    {
     "name": "stdout",
     "output_type": "stream",
     "text": [
      "Before Deposit, balance =  17898\n",
      "Deposited amount =  1001\n",
      "After Deposit, balance =  18899\n"
     ]
    }
   ],
   "source": [
    "crs.deposits(1001)\n"
   ]
  },
  {
   "cell_type": "code",
   "execution_count": 19,
   "metadata": {},
   "outputs": [
    {
     "name": "stdout",
     "output_type": "stream",
     "text": [
      "Before Withdrawl, balance =  18899\n",
      "Amount Withdrawn =  2190\n",
      "After withdrawl, balance =  16709\n"
     ]
    }
   ],
   "source": [
    "crs.withdrawls(2190)\n"
   ]
  },
  {
   "cell_type": "code",
   "execution_count": 20,
   "metadata": {},
   "outputs": [
    {
     "name": "stdout",
     "output_type": "stream",
     "text": [
      "Before Withdrawl, balance =  16709\n",
      "Amount Withdrawn =  3400\n",
      "After withdrawl, balance =  13309\n"
     ]
    }
   ],
   "source": [
    "crs.withdrawls(3400)\n"
   ]
  },
  {
   "cell_type": "code",
   "execution_count": 21,
   "metadata": {},
   "outputs": [
    {
     "name": "stdout",
     "output_type": "stream",
     "text": [
      "Withdrawl amount 190000 is more than available balance 13309\n"
     ]
    }
   ],
   "source": [
    "crs.withdrawls(190000)\n"
   ]
  },
  {
   "cell_type": "code",
   "execution_count": 22,
   "metadata": {},
   "outputs": [
    {
     "name": "stdout",
     "output_type": "stream",
     "text": [
      "Before Deposit, balance =  13309\n",
      "Deposited amount =  23195\n",
      "After Deposit, balance =  36504\n"
     ]
    }
   ],
   "source": [
    "crs.deposits(23195)\n",
    "\n"
   ]
  },
  {
   "cell_type": "code",
   "execution_count": 23,
   "metadata": {},
   "outputs": [
    {
     "name": "stdout",
     "output_type": "stream",
     "text": [
      "['D: 23195', 'F: 190000']\n"
     ]
    }
   ],
   "source": [
    "crs.getLastNTrans(2)\n"
   ]
  },
  {
   "cell_type": "code",
   "execution_count": null,
   "metadata": {},
   "outputs": [],
   "source": []
  },
  {
   "cell_type": "code",
   "execution_count": null,
   "metadata": {},
   "outputs": [],
   "source": []
  },
  {
   "cell_type": "code",
   "execution_count": null,
   "metadata": {},
   "outputs": [],
   "source": []
  }
 ],
 "metadata": {
  "kernelspec": {
   "display_name": "Python 3",
   "language": "python",
   "name": "python3"
  },
  "language_info": {
   "codemirror_mode": {
    "name": "ipython",
    "version": 3
   },
   "file_extension": ".py",
   "mimetype": "text/x-python",
   "name": "python",
   "nbconvert_exporter": "python",
   "pygments_lexer": "ipython3",
   "version": "3.7.6"
  }
 },
 "nbformat": 4,
 "nbformat_minor": 4
}
